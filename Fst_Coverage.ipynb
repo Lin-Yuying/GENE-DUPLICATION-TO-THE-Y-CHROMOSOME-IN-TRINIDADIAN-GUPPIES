{
 "cells": [
  {
   "cell_type": "code",
   "execution_count": 7,
   "id": "42b86712",
   "metadata": {},
   "outputs": [
    {
     "data": {
      "text/plain": [
       "'/Users/evolutioneco/Project/1.guppy_fst/test'"
      ]
     },
     "execution_count": 7,
     "metadata": {},
     "output_type": "execute_result"
    }
   ],
   "source": [
    "import pandas as pd\n",
    "import sys,os\n",
    "import matplotlib.pyplot as plt\n",
    "%matplotlib inline\n",
    "os.getcwd()"
   ]
  },
  {
   "cell_type": "code",
   "execution_count": 8,
   "id": "91e73cfc",
   "metadata": {},
   "outputs": [],
   "source": [
    "os.chdir('/Users/evolutioneco/Project/1.guppy_fst/test/')"
   ]
  },
  {
   "cell_type": "code",
   "execution_count": 9,
   "id": "60a7d77e",
   "metadata": {},
   "outputs": [
    {
     "data": {
      "text/plain": [
       "'/Users/evolutioneco/Project/1.guppy_fst/test'"
      ]
     },
     "execution_count": 9,
     "metadata": {},
     "output_type": "execute_result"
    }
   ],
   "source": [
    "os.getcwd()"
   ]
  },
  {
   "cell_type": "code",
   "execution_count": 10,
   "id": "18e46b35",
   "metadata": {},
   "outputs": [],
   "source": [
    "def ReadFile(prefix):\n",
    "    '''\n",
    "    LG22.fst.weir.fst\n",
    "    '''\n",
    "    fst = pd.read_csv(prefix+'.weir.fst', sep = '\\t')\n",
    "    male_coverage = pd.read_csv('male.'+ prefix +'.ldepth', sep = '\\t')\n",
    "    female_coverage = pd.read_csv('female.'+ prefix +'.ldepth', sep = '\\t')\n",
    "    # pd.DataFrame({'Chr':CHR,'Pos':POS,'M:F Depth':M_F_Ratio})\n",
    "    Fst_coverage = pd.DataFrame({'CHR':fst.CHROM,\n",
    "                                'POS':fst.POS,\n",
    "                                'FST':fst.WEIR_AND_COCKERHAM_FST,\n",
    "                                'MF_Depth':male_coverage.SUM_DEPTH/female_coverage.SUM_DEPTH/1.18})\n",
    "    return Fst_coverage"
   ]
  },
  {
   "cell_type": "code",
   "execution_count": 11,
   "id": "0c7cf0ad",
   "metadata": {},
   "outputs": [
    {
     "ename": "SyntaxError",
     "evalue": "invalid syntax (<ipython-input-11-ec4d93c2697a>, line 1)",
     "output_type": "error",
     "traceback": [
      "\u001b[0;36m  File \u001b[0;32m\"<ipython-input-11-ec4d93c2697a>\"\u001b[0;36m, line \u001b[0;32m1\u001b[0m\n\u001b[0;31m    ENSPREG15023\tLG18\u001b[0m\n\u001b[0m                \t^\u001b[0m\n\u001b[0;31mSyntaxError\u001b[0m\u001b[0;31m:\u001b[0m invalid syntax\n"
     ]
    }
   ],
   "source": [
    "ENSPREG15023\tLG18\n",
    "ENSPREG12439\tLG22"
   ]
  },
  {
   "cell_type": "code",
   "execution_count": 12,
   "id": "daada73c",
   "metadata": {},
   "outputs": [
    {
     "data": {
      "image/png": "[encoded data removed]",
      "text/plain": [
       "<Figure size 432x288 with 1 Axes>"
      ]
     },
     "metadata": {
      "needs_background": "light"
     },
     "output_type": "display_data"
    }
   ],
   "source": [
    "df = ReadFile('si:rp71-17i16.5')\n",
    "fig = plt.figure()\n",
    "plt.scatter(df.FST, df.MF_Depth)\n",
    "plt.title('si:rp71-17i16.5')\n",
    "plt.xlabel('Intersexual Fst')\n",
    "plt.ylabel('M:F read depth ratio')\n",
    "plt.ylim(0.7,2)\n",
    "fig.savefig('si:rp71-17i16.5.png')"
   ]
  },
  {
   "cell_type": "code",
   "execution_count": null,
   "id": "dcfcf270",
   "metadata": {},
   "outputs": [],
   "source": []
  }
 ],
 "metadata": {
  "kernelspec": {
   "display_name": "Python 3",
   "language": "python",
   "name": "python3"
  },
  "language_info": {
   "codemirror_mode": {
    "name": "ipython",
    "version": 3
   },
   "file_extension": ".py",
   "mimetype": "text/x-python",
   "name": "python",
   "nbconvert_exporter": "python",
   "pygments_lexer": "ipython3",
   "version": "3.8.3"
  }
 },
 "nbformat": 4,
 "nbformat_minor": 5
}
